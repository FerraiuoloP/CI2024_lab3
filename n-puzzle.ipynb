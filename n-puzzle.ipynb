{
 "cells": [
  {
   "cell_type": "markdown",
   "metadata": {
    "vscode": {
     "languageId": "plaintext"
    }
   },
   "source": [
    "Copyright **`(c)`** 2024 Giovanni Squillero `<giovanni.squillero@polito.it>`  \n",
    "[`https://github.com/squillero/computational-intelligence`](https://github.com/squillero/computational-intelligence)  \n",
    "Free under certain conditions — see the [`license`](https://github.com/squillero/computational-intelligence/blob/master/LICENSE.md) for details.  "
   ]
  },
  {
   "cell_type": "code",
   "execution_count": 73,
   "metadata": {},
   "outputs": [],
   "source": [
    "from collections import namedtuple\n",
    "from random import choice\n",
    "from tqdm.auto import tqdm\n",
    "import numpy as np\n",
    "import heapq\n",
    "from icecream import ic"
   ]
  },
  {
   "cell_type": "code",
   "execution_count": 74,
   "metadata": {},
   "outputs": [],
   "source": [
    "PUZZLE_DIM = 3\n",
    "action = namedtuple('Action', ['pos1', 'pos2'])"
   ]
  },
  {
   "cell_type": "code",
   "execution_count": 75,
   "metadata": {},
   "outputs": [],
   "source": [
    "def available_actions(state: np.ndarray) -> list['Action']:\n",
    "    x, y = [int(_[0]) for _ in np.where(state == 0)]\n",
    "    actions = list()\n",
    "    if x > 0:\n",
    "        actions.append(action((x, y), (x - 1, y)))\n",
    "    if x < PUZZLE_DIM - 1:\n",
    "        actions.append(action((x, y), (x + 1, y)))\n",
    "    if y > 0:\n",
    "        actions.append(action((x, y), (x, y - 1)))\n",
    "    if y < PUZZLE_DIM - 1:\n",
    "        actions.append(action((x, y), (x, y + 1)))\n",
    "    return actions\n",
    "\n",
    "\n",
    "\n",
    "def do_action(state: np.ndarray, action: 'Action') -> np.ndarray:\n",
    "    new_state = state.copy()\n",
    "    new_state[action.pos1], new_state[action.pos2] = new_state[action.pos2], new_state[action.pos1]\n",
    "    return new_state\n",
    "\n",
    "def is_solvable(state:np.ndarray)->bool:\n",
    "    inv_count = 0\n",
    "    tmp_state = state.copy().reshape(PUZZLE_DIM**2)\n",
    "    for i in range(0,PUZZLE_DIM**2):\n",
    "        for j in range(i+1,PUZZLE_DIM**2):\n",
    "            if tmp_state[j] != 0 and tmp_state[i] != 0 and tmp_state[i] > tmp_state[j]:\n",
    "                inv_count += 1\n",
    "    return (inv_count%2) == 0 "
   ]
  },
  {
   "cell_type": "code",
   "execution_count": 76,
   "metadata": {},
   "outputs": [
    {
     "data": {
      "application/vnd.jupyter.widget-view+json": {
       "model_id": "b01f2666087e4b919eb78f72a78b4faf",
       "version_major": 2,
       "version_minor": 0
      },
      "text/plain": [
       "Randomizing:   0%|          | 0/100 [00:00<?, ?it/s]"
      ]
     },
     "metadata": {},
     "output_type": "display_data"
    }
   ],
   "source": [
    "RANDOMIZE_STEPS = 100\n",
    "target_state=np.array([i for i in range(1, PUZZLE_DIM**2)] + [0]).reshape((PUZZLE_DIM, PUZZLE_DIM))\n",
    "start_state = target_state\n",
    "for r in tqdm(range(RANDOMIZE_STEPS), desc='Randomizing'):\n",
    "    start_state = do_action(start_state, choice(available_actions(start_state)))\n"
   ]
  },
  {
   "cell_type": "code",
   "execution_count": 77,
   "metadata": {},
   "outputs": [],
   "source": [
    "class Position: #The position class represent the state of the game with the f (h+g) embedded.\n",
    "    def __init__(self,grid:np.array,g,prev_pos=None) -> None:\n",
    "        self.grid=grid\n",
    "        self.prev_pos=prev_pos\n",
    "        self.g=g\n",
    "        self.f=self.__h()+g\n",
    "    def __h(self):\n",
    "        #This is the heuristic: MANHATTAN DISTANCE over every element\n",
    "        tot_dist=0\n",
    "        for i in range(1,PUZZLE_DIM**2):\n",
    "            x_1,y_1=np.where(target_state==i)\n",
    "            x_2,y_2=np.where(self.grid==i)\n",
    "            tot_dist+=abs(x_1-x_2)+abs(y_1-y_2)\n",
    "        return tot_dist\n",
    "    \n",
    "    # #Overridng to use comparisons\n",
    "    # def __eq__(self,other):\n",
    "    #    return self.grid==other.grid\n",
    "    \n",
    "    #Overriding to use heap\n",
    "    def __lt__(self, other):\n",
    "     return self.f<other.f\n",
    "    \n",
    "    \n",
    "\n",
    "\n"
   ]
  },
  {
   "cell_type": "code",
   "execution_count": 78,
   "metadata": {},
   "outputs": [
    {
     "name": "stderr",
     "output_type": "stream",
     "text": [
      "ic| is_solvable(start_state): True\n",
      "ic| 'Start pos:'\n",
      "ic| start_pos.grid: array([[1, 7, 3],\n",
      "                           [5, 4, 2],\n",
      "                           [8, 6, 0]])\n",
      "    start_pos.f: array([10])\n",
      "ic| len(closed_list): 296\n",
      "ic| len(open_list): 199\n",
      "ic| 'Positions evaluated:', evaluated_pos: 300\n",
      "ic| 'Steps:'\n",
      "ic| found_sol.grid: array([[1, 2, 3],\n",
      "                           [4, 5, 6],\n",
      "                           [7, 8, 0]])\n",
      "ic| found_sol.grid: array([[1, 2, 3],\n",
      "                           [4, 5, 6],\n",
      "                           [7, 0, 8]])\n",
      "ic| found_sol.grid: array([[1, 2, 3],\n",
      "                           [4, 0, 6],\n",
      "                           [7, 5, 8]])\n",
      "ic| found_sol.grid: array([[1, 0, 3],\n",
      "                           [4, 2, 6],\n",
      "                           [7, 5, 8]])\n",
      "ic| found_sol.grid: array([[0, 1, 3],\n",
      "                           [4, 2, 6],\n",
      "                           [7, 5, 8]])\n",
      "ic| found_sol.grid: array([[4, 1, 3],\n",
      "                           [0, 2, 6],\n",
      "                           [7, 5, 8]])\n",
      "ic| found_sol.grid: array([[4, 1, 3],\n",
      "                           [7, 2, 6],\n",
      "                           [0, 5, 8]])\n",
      "ic| found_sol.grid: array([[4, 1, 3],\n",
      "                           [7, 2, 6],\n",
      "                           [5, 0, 8]])\n",
      "ic| found_sol.grid: array([[4, 1, 3],\n",
      "                           [7, 2, 6],\n",
      "                           [5, 8, 0]])\n",
      "ic| found_sol.grid: array([[4, 1, 3],\n",
      "                           [7, 2, 0],\n",
      "                           [5, 8, 6]])\n",
      "ic| found_sol.grid: array([[4, 1, 3],\n",
      "                           [7, 0, 2],\n",
      "                           [5, 8, 6]])\n",
      "ic| found_sol.grid: array([[4, 1, 3],\n",
      "                           [0, 7, 2],\n",
      "                           [5, 8, 6]])\n",
      "ic| found_sol.grid: array([[0, 1, 3],\n",
      "                           [4, 7, 2],\n",
      "                           [5, 8, 6]])\n",
      "ic| found_sol.grid: array([[1, 0, 3],\n",
      "                           [4, 7, 2],\n",
      "                           [5, 8, 6]])\n",
      "ic| found_sol.grid: array([[1, 7, 3],\n",
      "                           [4, 0, 2],\n",
      "                           [5, 8, 6]])\n",
      "ic| found_sol.grid: array([[1, 7, 3],\n",
      "                           [0, 4, 2],\n",
      "                           [5, 8, 6]])\n",
      "ic| found_sol.grid: array([[1, 7, 3],\n",
      "                           [5, 4, 2],\n",
      "                           [0, 8, 6]])\n",
      "ic| found_sol.grid: array([[1, 7, 3],\n",
      "                           [5, 4, 2],\n",
      "                           [8, 0, 6]])\n",
      "ic| found_sol.grid: array([[1, 7, 3],\n",
      "                           [5, 4, 2],\n",
      "                           [8, 6, 0]])\n"
     ]
    }
   ],
   "source": [
    "evaluated_pos=0#evaluated position (cost of the algorithm)\n",
    "\n",
    "def a_star(start_pos:Position):\n",
    "    global evaluated_pos\n",
    "    evaluated_pos=0\n",
    "    curr_pos=start_pos\n",
    "    closed_list = set() #Visited Positions\n",
    "    open_list=[] #Visitable Positions\n",
    "\n",
    "    while open_list or evaluated_pos==0 :\n",
    "        closed_list.add(tuple(map(tuple, curr_pos.grid))) #hashable\n",
    "        if((curr_pos.grid==target_state).all()):\n",
    "            ic(len(closed_list))\n",
    "            ic(len(open_list))\n",
    "            return curr_pos\n",
    "        evaluated_pos+=1\n",
    "        new_actions=available_actions(curr_pos.grid)\n",
    "        for action in new_actions:\n",
    "            new_pos=Position(do_action(curr_pos.grid,action),curr_pos.g+1,curr_pos)\n",
    "            if tuple(map(tuple, new_pos.grid)) not in closed_list:\n",
    "                heapq.heappush(open_list, new_pos)\n",
    "  \n",
    "        curr_pos=heapq.heappop(open_list)\n",
    "        if(evaluated_pos%1000==0):\n",
    "            ic(curr_pos.grid)\n",
    "\n",
    "start_pos=Position(start_state,0)\n",
    "ic(is_solvable(start_state))\n",
    "ic(\"Start pos:\")\n",
    "ic(start_pos.grid,start_pos.f)\n",
    "\n",
    "found_sol=a_star(start_pos)   \n",
    "\n",
    "\n",
    "ic(\"Positions evaluated:\",evaluated_pos)\n",
    "\n",
    "\n",
    "\n",
    "ic(\"Steps:\")\n",
    "while True:\n",
    "    ic(found_sol.grid)\n",
    "    if(found_sol.prev_pos==None):\n",
    "        break\n",
    "    found_sol=found_sol.prev_pos"
   ]
  }
 ],
 "metadata": {
  "kernelspec": {
   "display_name": "test_env",
   "language": "python",
   "name": "python3"
  },
  "language_info": {
   "codemirror_mode": {
    "name": "ipython",
    "version": 3
   },
   "file_extension": ".py",
   "mimetype": "text/x-python",
   "name": "python",
   "nbconvert_exporter": "python",
   "pygments_lexer": "ipython3",
   "version": "3.12.3"
  }
 },
 "nbformat": 4,
 "nbformat_minor": 2
}
